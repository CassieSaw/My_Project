{
 "cells": [
  {
   "cell_type": "markdown",
   "id": "7e24cd82",
   "metadata": {},
   "source": [
    "# Mini Project 2 - IU 4.5 Statistical Analysis"
   ]
  },
  {
   "cell_type": "code",
   "execution_count": 1,
   "id": "8a5b2978",
   "metadata": {},
   "outputs": [],
   "source": [
    "# Importing the respective libraries\n",
    "%matplotlib inline\n",
    "import numpy as np\n",
    "import pandas as pd\n",
    "import matplotlib.pyplot as plt\n",
    "from scipy import stats\n",
    "import seaborn as sns\n",
    "import warnings\n",
    "warnings.filterwarnings(\"ignore\")\n",
    "warnings.simplefilter(action='ignore', category=FutureWarning)"
   ]
  },
  {
   "cell_type": "markdown",
   "id": "95f6fcb5",
   "metadata": {},
   "source": [
    "### Q1) Exploratory Data Analysis"
   ]
  },
  {
   "cell_type": "code",
   "execution_count": 2,
   "id": "661c01c5",
   "metadata": {},
   "outputs": [
    {
     "data": {
      "text/html": [
       "<div>\n",
       "<style scoped>\n",
       "    .dataframe tbody tr th:only-of-type {\n",
       "        vertical-align: middle;\n",
       "    }\n",
       "\n",
       "    .dataframe tbody tr th {\n",
       "        vertical-align: top;\n",
       "    }\n",
       "\n",
       "    .dataframe thead th {\n",
       "        text-align: right;\n",
       "    }\n",
       "</style>\n",
       "<table border=\"1\" class=\"dataframe\">\n",
       "  <thead>\n",
       "    <tr style=\"text-align: right;\">\n",
       "      <th></th>\n",
       "      <th>userid</th>\n",
       "      <th>version</th>\n",
       "      <th>sum_gamerounds</th>\n",
       "      <th>retention_1</th>\n",
       "      <th>retention_7</th>\n",
       "    </tr>\n",
       "  </thead>\n",
       "  <tbody>\n",
       "    <tr>\n",
       "      <th>0</th>\n",
       "      <td>116</td>\n",
       "      <td>gate_30</td>\n",
       "      <td>3</td>\n",
       "      <td>False</td>\n",
       "      <td>False</td>\n",
       "    </tr>\n",
       "    <tr>\n",
       "      <th>1</th>\n",
       "      <td>337</td>\n",
       "      <td>gate_30</td>\n",
       "      <td>38</td>\n",
       "      <td>True</td>\n",
       "      <td>False</td>\n",
       "    </tr>\n",
       "    <tr>\n",
       "      <th>2</th>\n",
       "      <td>377</td>\n",
       "      <td>gate_40</td>\n",
       "      <td>165</td>\n",
       "      <td>True</td>\n",
       "      <td>False</td>\n",
       "    </tr>\n",
       "    <tr>\n",
       "      <th>3</th>\n",
       "      <td>483</td>\n",
       "      <td>gate_40</td>\n",
       "      <td>1</td>\n",
       "      <td>False</td>\n",
       "      <td>False</td>\n",
       "    </tr>\n",
       "    <tr>\n",
       "      <th>4</th>\n",
       "      <td>488</td>\n",
       "      <td>gate_40</td>\n",
       "      <td>179</td>\n",
       "      <td>True</td>\n",
       "      <td>True</td>\n",
       "    </tr>\n",
       "    <tr>\n",
       "      <th>5</th>\n",
       "      <td>540</td>\n",
       "      <td>gate_40</td>\n",
       "      <td>187</td>\n",
       "      <td>True</td>\n",
       "      <td>True</td>\n",
       "    </tr>\n",
       "    <tr>\n",
       "      <th>6</th>\n",
       "      <td>1066</td>\n",
       "      <td>gate_30</td>\n",
       "      <td>0</td>\n",
       "      <td>False</td>\n",
       "      <td>False</td>\n",
       "    </tr>\n",
       "    <tr>\n",
       "      <th>7</th>\n",
       "      <td>1444</td>\n",
       "      <td>gate_40</td>\n",
       "      <td>2</td>\n",
       "      <td>False</td>\n",
       "      <td>False</td>\n",
       "    </tr>\n",
       "    <tr>\n",
       "      <th>8</th>\n",
       "      <td>1574</td>\n",
       "      <td>gate_40</td>\n",
       "      <td>108</td>\n",
       "      <td>True</td>\n",
       "      <td>True</td>\n",
       "    </tr>\n",
       "    <tr>\n",
       "      <th>9</th>\n",
       "      <td>1587</td>\n",
       "      <td>gate_40</td>\n",
       "      <td>153</td>\n",
       "      <td>True</td>\n",
       "      <td>False</td>\n",
       "    </tr>\n",
       "  </tbody>\n",
       "</table>\n",
       "</div>"
      ],
      "text/plain": [
       "   userid  version  sum_gamerounds  retention_1  retention_7\n",
       "0     116  gate_30               3        False        False\n",
       "1     337  gate_30              38         True        False\n",
       "2     377  gate_40             165         True        False\n",
       "3     483  gate_40               1        False        False\n",
       "4     488  gate_40             179         True         True\n",
       "5     540  gate_40             187         True         True\n",
       "6    1066  gate_30               0        False        False\n",
       "7    1444  gate_40               2        False        False\n",
       "8    1574  gate_40             108         True         True\n",
       "9    1587  gate_40             153         True        False"
      ]
     },
     "execution_count": 2,
     "metadata": {},
     "output_type": "execute_result"
    }
   ],
   "source": [
    "# Reading the data set\n",
    "cats_df = pd.read_csv(\"Mini_project_2_Data.csv\")\n",
    "\n",
    "# Showing the first few rows\n",
    "cats_df.head(10)"
   ]
  },
  {
   "cell_type": "markdown",
   "id": "98e0f7c8",
   "metadata": {},
   "source": [
    "## Exercise"
   ]
  },
  {
   "cell_type": "markdown",
   "id": "987cca40",
   "metadata": {},
   "source": [
    "### Q1. Detect and resolve problems in the data (Missing value, Outliers, etc."
   ]
  },
  {
   "cell_type": "markdown",
   "id": "0f25760c",
   "metadata": {},
   "source": [
    "### Q1.1 Identify missing value"
   ]
  },
  {
   "cell_type": "code",
   "execution_count": 3,
   "id": "22d1356c",
   "metadata": {},
   "outputs": [
    {
     "data": {
      "text/html": [
       "<div>\n",
       "<style scoped>\n",
       "    .dataframe tbody tr th:only-of-type {\n",
       "        vertical-align: middle;\n",
       "    }\n",
       "\n",
       "    .dataframe tbody tr th {\n",
       "        vertical-align: top;\n",
       "    }\n",
       "\n",
       "    .dataframe thead th {\n",
       "        text-align: right;\n",
       "    }\n",
       "</style>\n",
       "<table border=\"1\" class=\"dataframe\">\n",
       "  <thead>\n",
       "    <tr style=\"text-align: right;\">\n",
       "      <th></th>\n",
       "      <th>userid</th>\n",
       "      <th>version</th>\n",
       "      <th>sum_gamerounds</th>\n",
       "      <th>retention_1</th>\n",
       "      <th>retention_7</th>\n",
       "    </tr>\n",
       "  </thead>\n",
       "  <tbody>\n",
       "    <tr>\n",
       "      <th>0</th>\n",
       "      <td>False</td>\n",
       "      <td>False</td>\n",
       "      <td>False</td>\n",
       "      <td>False</td>\n",
       "      <td>False</td>\n",
       "    </tr>\n",
       "    <tr>\n",
       "      <th>1</th>\n",
       "      <td>False</td>\n",
       "      <td>False</td>\n",
       "      <td>False</td>\n",
       "      <td>False</td>\n",
       "      <td>False</td>\n",
       "    </tr>\n",
       "    <tr>\n",
       "      <th>2</th>\n",
       "      <td>False</td>\n",
       "      <td>False</td>\n",
       "      <td>False</td>\n",
       "      <td>False</td>\n",
       "      <td>False</td>\n",
       "    </tr>\n",
       "    <tr>\n",
       "      <th>3</th>\n",
       "      <td>False</td>\n",
       "      <td>False</td>\n",
       "      <td>False</td>\n",
       "      <td>False</td>\n",
       "      <td>False</td>\n",
       "    </tr>\n",
       "    <tr>\n",
       "      <th>4</th>\n",
       "      <td>False</td>\n",
       "      <td>False</td>\n",
       "      <td>False</td>\n",
       "      <td>False</td>\n",
       "      <td>False</td>\n",
       "    </tr>\n",
       "    <tr>\n",
       "      <th>...</th>\n",
       "      <td>...</td>\n",
       "      <td>...</td>\n",
       "      <td>...</td>\n",
       "      <td>...</td>\n",
       "      <td>...</td>\n",
       "    </tr>\n",
       "    <tr>\n",
       "      <th>90184</th>\n",
       "      <td>False</td>\n",
       "      <td>False</td>\n",
       "      <td>False</td>\n",
       "      <td>False</td>\n",
       "      <td>False</td>\n",
       "    </tr>\n",
       "    <tr>\n",
       "      <th>90185</th>\n",
       "      <td>False</td>\n",
       "      <td>False</td>\n",
       "      <td>False</td>\n",
       "      <td>False</td>\n",
       "      <td>False</td>\n",
       "    </tr>\n",
       "    <tr>\n",
       "      <th>90186</th>\n",
       "      <td>False</td>\n",
       "      <td>False</td>\n",
       "      <td>False</td>\n",
       "      <td>False</td>\n",
       "      <td>False</td>\n",
       "    </tr>\n",
       "    <tr>\n",
       "      <th>90187</th>\n",
       "      <td>False</td>\n",
       "      <td>False</td>\n",
       "      <td>False</td>\n",
       "      <td>False</td>\n",
       "      <td>False</td>\n",
       "    </tr>\n",
       "    <tr>\n",
       "      <th>90188</th>\n",
       "      <td>False</td>\n",
       "      <td>False</td>\n",
       "      <td>False</td>\n",
       "      <td>False</td>\n",
       "      <td>False</td>\n",
       "    </tr>\n",
       "  </tbody>\n",
       "</table>\n",
       "<p>90189 rows × 5 columns</p>\n",
       "</div>"
      ],
      "text/plain": [
       "       userid  version  sum_gamerounds  retention_1  retention_7\n",
       "0       False    False           False        False        False\n",
       "1       False    False           False        False        False\n",
       "2       False    False           False        False        False\n",
       "3       False    False           False        False        False\n",
       "4       False    False           False        False        False\n",
       "...       ...      ...             ...          ...          ...\n",
       "90184   False    False           False        False        False\n",
       "90185   False    False           False        False        False\n",
       "90186   False    False           False        False        False\n",
       "90187   False    False           False        False        False\n",
       "90188   False    False           False        False        False\n",
       "\n",
       "[90189 rows x 5 columns]"
      ]
     },
     "execution_count": 3,
     "metadata": {},
     "output_type": "execute_result"
    }
   ],
   "source": [
    "# Checking if there are any null values\n",
    "cats_df.isnull()"
   ]
  },
  {
   "cell_type": "markdown",
   "id": "86f7f48d",
   "metadata": {},
   "source": [
    "From the above table, we can see that there are no null values in the data set given. "
   ]
  },
  {
   "cell_type": "markdown",
   "id": "3da8511d",
   "metadata": {},
   "source": [
    "### Q1.2 Identify outliers"
   ]
  },
  {
   "cell_type": "code",
   "execution_count": 4,
   "id": "31d46b4d",
   "metadata": {},
   "outputs": [
    {
     "data": {
      "text/plain": [
       "[<matplotlib.lines.Line2D at 0x22dba0f33a0>]"
      ]
     },
     "execution_count": 4,
     "metadata": {},
     "output_type": "execute_result"
    },
    {
     "data": {
      "image/png": "[encoded data removed]",
      "text/plain": [
       "<Figure size 432x288 with 1 Axes>"
      ]
     },
     "metadata": {
      "needs_background": "light"
     },
     "output_type": "display_data"
    }
   ],
   "source": [
    "#Check for outlier values in sum_gamerounds column\n",
    "plt.title(\"Total gamerounds played\")\n",
    "plt.xlabel(\"Index\")\n",
    "plt.ylabel(\"sum_gamerounds\")\n",
    "plt.plot(cats_df.sum_gamerounds)"
   ]
  },
  {
   "cell_type": "code",
   "execution_count": 5,
   "id": "5686f183",
   "metadata": {},
   "outputs": [
    {
     "data": {
      "text/html": [
       "<div>\n",
       "<style scoped>\n",
       "    .dataframe tbody tr th:only-of-type {\n",
       "        vertical-align: middle;\n",
       "    }\n",
       "\n",
       "    .dataframe tbody tr th {\n",
       "        vertical-align: top;\n",
       "    }\n",
       "\n",
       "    .dataframe thead th {\n",
       "        text-align: right;\n",
       "    }\n",
       "</style>\n",
       "<table border=\"1\" class=\"dataframe\">\n",
       "  <thead>\n",
       "    <tr style=\"text-align: right;\">\n",
       "      <th></th>\n",
       "      <th>userid</th>\n",
       "      <th>version</th>\n",
       "      <th>sum_gamerounds</th>\n",
       "      <th>retention_1</th>\n",
       "      <th>retention_7</th>\n",
       "    </tr>\n",
       "  </thead>\n",
       "  <tbody>\n",
       "    <tr>\n",
       "      <th>57702</th>\n",
       "      <td>6390605</td>\n",
       "      <td>gate_30</td>\n",
       "      <td>49854</td>\n",
       "      <td>False</td>\n",
       "      <td>True</td>\n",
       "    </tr>\n",
       "  </tbody>\n",
       "</table>\n",
       "</div>"
      ],
      "text/plain": [
       "        userid  version  sum_gamerounds  retention_1  retention_7\n",
       "57702  6390605  gate_30           49854        False         True"
      ]
     },
     "execution_count": 5,
     "metadata": {},
     "output_type": "execute_result"
    }
   ],
   "source": [
    "#Locating the information maximum number of gamerounds played using the max() function\n",
    "cats_df[cats_df['sum_gamerounds'] == max(cats_df['sum_gamerounds'])]"
   ]
  },
  {
   "cell_type": "code",
   "execution_count": 6,
   "id": "7ec683e7",
   "metadata": {},
   "outputs": [
    {
     "data": {
      "image/png": "[encoded data removed]",
      "text/plain": [
       "<Figure size 432x288 with 1 Axes>"
      ]
     },
     "metadata": {
      "needs_background": "light"
     },
     "output_type": "display_data"
    }
   ],
   "source": [
    "# Counting the number of players for each number of gamerounds \n",
    "cats_df_lessmax = cats_df.drop(index=cats_df[cats_df['sum_gamerounds'] == max(cats_df['sum_gamerounds'])].index,inplace=False)\n",
    "\n",
    "# Plotting the distribution of players after removing the outlier\n",
    "plt.title(\"Total gamerounds played\")\n",
    "plt.xlabel(\"Index\")\n",
    "plt.ylabel(\"sum_gamerounds\")\n",
    "plt.plot(cats_df_lessmax.sum_gamerounds);"
   ]
  },
  {
   "cell_type": "code",
   "execution_count": 7,
   "id": "efbf02c3",
   "metadata": {},
   "outputs": [
    {
     "data": {
      "text/plain": [
       "count    90188.000000\n",
       "mean        51.320253\n",
       "std        102.682719\n",
       "min          0.000000\n",
       "25%          5.000000\n",
       "50%         16.000000\n",
       "75%         51.000000\n",
       "max       2961.000000\n",
       "Name: sum_gamerounds, dtype: float64"
      ]
     },
     "execution_count": 7,
     "metadata": {},
     "output_type": "execute_result"
    }
   ],
   "source": [
    "# Getting an overview of the number of rounds played\n",
    "cats_df_lessmax['sum_gamerounds'].describe()"
   ]
  },
  {
   "cell_type": "code",
   "execution_count": 8,
   "id": "e63f5fe5",
   "metadata": {},
   "outputs": [
    {
     "data": {
      "text/plain": [
       "gate_40    45489\n",
       "gate_30    44699\n",
       "Name: version, dtype: int64"
      ]
     },
     "execution_count": 8,
     "metadata": {},
     "output_type": "execute_result"
    }
   ],
   "source": [
    "# Counting the number of players in each group, gate_30 and gate_40 respectively.\n",
    "cats_df_lessmax['version'].value_counts()"
   ]
  },
  {
   "cell_type": "markdown",
   "id": "02050f68",
   "metadata": {},
   "source": [
    "## Q2. Plot summary statistics and identify trends to answer basis business questions"
   ]
  },
  {
   "cell_type": "markdown",
   "id": "a93eeb06",
   "metadata": {},
   "source": [
    "### Q2.1 What is the overall 7-day retention rate of the game?"
   ]
  },
  {
   "cell_type": "code",
   "execution_count": 9,
   "id": "6336fe3c",
   "metadata": {},
   "outputs": [
    {
     "name": "stdout",
     "output_type": "stream",
     "text": [
      "Overall 7-day retention rate of the game is 18.61%\n"
     ]
    }
   ],
   "source": [
    "#Calculating the overall 7-day retention rate \n",
    "ret_7d = cats_df_lessmax[[\"retention_7\"]].mean()*100\n",
    "print(f\"Overall 7-day retention rate of the game is {round(ret_7d[0],2)}%\")"
   ]
  },
  {
   "cell_type": "markdown",
   "id": "021c4cf9",
   "metadata": {},
   "source": [
    "### Q2.2 How many players never played the game after installing? "
   ]
  },
  {
   "cell_type": "code",
   "execution_count": 10,
   "id": "bc8fa28e",
   "metadata": {},
   "outputs": [
    {
     "name": "stdout",
     "output_type": "stream",
     "text": [
      "3994 players never played the game after installing it.\n"
     ]
    }
   ],
   "source": [
    "# Display the number of players who have never played game after they have installed it.\n",
    "never_played = cats_df_lessmax[cats_df_lessmax['sum_gamerounds'] == 0].userid.count()\n",
    "print(f'{never_played} players never played the game after installing it.')"
   ]
  },
  {
   "cell_type": "markdown",
   "id": "f74ddc15",
   "metadata": {},
   "source": [
    "### Q2.3 Does the number of users decrease as the level progresses highlighting the difficulty of the game?"
   ]
  },
  {
   "cell_type": "code",
   "execution_count": 23,
   "id": "c57aafd9",
   "metadata": {},
   "outputs": [
    {
     "name": "stdout",
     "output_type": "stream",
     "text": [
      "Yes, the number of users decrease as the level progresses.\n"
     ]
    },
    {
     "data": {
      "image/png": "[encoded data removed]",
      "text/plain": [
       "<Figure size 432x288 with 1 Axes>"
      ]
     },
     "metadata": {
      "needs_background": "light"
     },
     "output_type": "display_data"
    }
   ],
   "source": [
    "# Counting the number of players for the first 200 gamerounds\n",
    "cats_df_lessmax.groupby('sum_gamerounds').count().head(200).plot()\n",
    "print('Yes, the number of users decrease as the level progresses.')"
   ]
  },
  {
   "cell_type": "code",
   "execution_count": 11,
   "id": "26310ccd",
   "metadata": {},
   "outputs": [
    {
     "data": {
      "image/png": "[encoded data removed]",
      "text/plain": [
       "<Figure size 432x288 with 1 Axes>"
      ]
     },
     "metadata": {
      "needs_background": "light"
     },
     "output_type": "display_data"
    }
   ],
   "source": [
    "cats_df_lessmax[cats_df_lessmax['version']=='gate_30'].groupby('sum_gamerounds').count().head(200).plot();"
   ]
  },
  {
   "cell_type": "code",
   "execution_count": 12,
   "id": "de989df5",
   "metadata": {},
   "outputs": [
    {
     "data": {
      "image/png": "[encoded data removed]",
      "text/plain": [
       "<Figure size 432x288 with 1 Axes>"
      ]
     },
     "metadata": {
      "needs_background": "light"
     },
     "output_type": "display_data"
    }
   ],
   "source": [
    "cats_df_lessmax[cats_df_lessmax['version']=='gate_40'].groupby('sum_gamerounds').count().head(200).plot();"
   ]
  },
  {
   "cell_type": "markdown",
   "id": "61541ad1",
   "metadata": {},
   "source": [
    "## Q3. Generate crosstab for two groups of players to understand if there is a difference in 7 days retention rate & total number of game rounds played"
   ]
  },
  {
   "cell_type": "markdown",
   "id": "6d2e9fbf",
   "metadata": {},
   "source": [
    "### Q3.1 Seven days retention rate summary for different game versions"
   ]
  },
  {
   "cell_type": "code",
   "execution_count": 23,
   "id": "a45f8e5e",
   "metadata": {},
   "outputs": [
    {
     "data": {
      "text/html": [
       "<div>\n",
       "<style scoped>\n",
       "    .dataframe tbody tr th:only-of-type {\n",
       "        vertical-align: middle;\n",
       "    }\n",
       "\n",
       "    .dataframe tbody tr th {\n",
       "        vertical-align: top;\n",
       "    }\n",
       "\n",
       "    .dataframe thead th {\n",
       "        text-align: right;\n",
       "    }\n",
       "</style>\n",
       "<table border=\"1\" class=\"dataframe\">\n",
       "  <thead>\n",
       "    <tr style=\"text-align: right;\">\n",
       "      <th>retention_7</th>\n",
       "      <th>False</th>\n",
       "      <th>True</th>\n",
       "    </tr>\n",
       "    <tr>\n",
       "      <th>version</th>\n",
       "      <th></th>\n",
       "      <th></th>\n",
       "    </tr>\n",
       "  </thead>\n",
       "  <tbody>\n",
       "    <tr>\n",
       "      <th>gate_30</th>\n",
       "      <td>0.809817</td>\n",
       "      <td>0.190183</td>\n",
       "    </tr>\n",
       "    <tr>\n",
       "      <th>gate_40</th>\n",
       "      <td>0.818000</td>\n",
       "      <td>0.182000</td>\n",
       "    </tr>\n",
       "  </tbody>\n",
       "</table>\n",
       "</div>"
      ],
      "text/plain": [
       "retention_7     False     True \n",
       "version                        \n",
       "gate_30      0.809817  0.190183\n",
       "gate_40      0.818000  0.182000"
      ]
     },
     "metadata": {},
     "output_type": "display_data"
    },
    {
     "data": {
      "text/html": [
       "<div>\n",
       "<style scoped>\n",
       "    .dataframe tbody tr th:only-of-type {\n",
       "        vertical-align: middle;\n",
       "    }\n",
       "\n",
       "    .dataframe tbody tr th {\n",
       "        vertical-align: top;\n",
       "    }\n",
       "\n",
       "    .dataframe thead th {\n",
       "        text-align: right;\n",
       "    }\n",
       "</style>\n",
       "<table border=\"1\" class=\"dataframe\">\n",
       "  <thead>\n",
       "    <tr style=\"text-align: right;\">\n",
       "      <th>retention_1</th>\n",
       "      <th>False</th>\n",
       "      <th>True</th>\n",
       "    </tr>\n",
       "    <tr>\n",
       "      <th>version</th>\n",
       "      <th></th>\n",
       "      <th></th>\n",
       "    </tr>\n",
       "  </thead>\n",
       "  <tbody>\n",
       "    <tr>\n",
       "      <th>gate_30</th>\n",
       "      <td>0.551802</td>\n",
       "      <td>0.448198</td>\n",
       "    </tr>\n",
       "    <tr>\n",
       "      <th>gate_40</th>\n",
       "      <td>0.557717</td>\n",
       "      <td>0.442283</td>\n",
       "    </tr>\n",
       "  </tbody>\n",
       "</table>\n",
       "</div>"
      ],
      "text/plain": [
       "retention_1     False     True \n",
       "version                        \n",
       "gate_30      0.551802  0.448198\n",
       "gate_40      0.557717  0.442283"
      ]
     },
     "metadata": {},
     "output_type": "display_data"
    }
   ],
   "source": [
    "# Creating a cross tab to summarise the 7-day retention rate for different levels at which the gate was set\n",
    "crosstab_7d = pd.crosstab(cats_df_lessmax.version, cats_df_lessmax.retention_7).apply(lambda r: r/r.sum(), axis=1)\n",
    "display(crosstab_7d)\n",
    "\n",
    "crosstab_1d = pd.crosstab(cats_df_lessmax.version, cats_df_lessmax.retention_1).apply(lambda r: r/r.sum(), axis=1)\n",
    "display(crosstab_1d)"
   ]
  },
  {
   "cell_type": "markdown",
   "id": "b55132eb",
   "metadata": {},
   "source": [
    "<mark>__Analsysis Results:__\n",
    "    \n",
    "Setting the gate at level 30 yields a slightly higher 7-day retention rate, at 19.0%, as compared to the 7-day retention rate when the gate was set at level 40, at 18.2%. It is noted that the proportion of players who did not return to the game after the 7 days of installing is high for both versions of the game. "
   ]
  },
  {
   "cell_type": "markdown",
   "id": "8b9fde18",
   "metadata": {},
   "source": [
    "### Q3.2 Gamerounds summary for different game versions"
   ]
  },
  {
   "cell_type": "code",
   "execution_count": 14,
   "id": "5bf529aa",
   "metadata": {},
   "outputs": [
    {
     "name": "stdout",
     "output_type": "stream",
     "text": [
      "   version  gamerounds_mean  gamerounds_total\n",
      "0  gate_30        51.342111           2294941\n",
      "1  gate_40        51.298776           2333530\n"
     ]
    }
   ],
   "source": [
    "# Average gamerounds and Total gamerounds played on different game versions\n",
    "grouped_avegamerounds = cats_df_lessmax.groupby(['version']).agg({'sum_gamerounds': ['mean','sum']})\n",
    "grouped_avegamerounds.columns = ['gamerounds_mean', 'gamerounds_total']\n",
    "grouped_avegamerounds = grouped_avegamerounds.reset_index()\n",
    "print(f'{grouped_avegamerounds}')"
   ]
  },
  {
   "cell_type": "markdown",
   "id": "2f13ca6d",
   "metadata": {},
   "source": [
    "<mark>__Analysis of Results:__\n",
    "    \n",
    "Do total number of gamerounds played in total by each player differ based on  different versions of the game? \n",
    "    \n",
    "The total number of gamesrounds played by each player increases with different versions of the game, that is, when the gate is set at level 40 as compared to the gate being set at level 30. The total number of gamerounds played at level 40 is higher than the gamerounds played at level 30. "
   ]
  },
  {
   "cell_type": "markdown",
   "id": "4b221b87",
   "metadata": {},
   "source": [
    "## Q4. Perform two-sample test for groups A and B to test statistical significance amongst the groups in the sum of game rounds played i.e., if groups A and B are statistically different"
   ]
  },
  {
   "cell_type": "markdown",
   "id": "31ce1c10",
   "metadata": {},
   "source": [
    "### Initial data processing"
   ]
  },
  {
   "cell_type": "code",
   "execution_count": 15,
   "id": "cf1b73cf",
   "metadata": {},
   "outputs": [
    {
     "name": "stdout",
     "output_type": "stream",
     "text": [
      "       sum_gamerounds\n",
      "0                   3\n",
      "1                  38\n",
      "6                   0\n",
      "11                  0\n",
      "13                 39\n",
      "...               ...\n",
      "90179              14\n",
      "90180               7\n",
      "90182              21\n",
      "90183              10\n",
      "90186              28\n",
      "\n",
      "[44699 rows x 1 columns]\n",
      "\n",
      "       sum_gamerounds\n",
      "2                 165\n",
      "3                   1\n",
      "4                 179\n",
      "5                 187\n",
      "7                   2\n",
      "...               ...\n",
      "90181              10\n",
      "90184              97\n",
      "90185              30\n",
      "90187              51\n",
      "90188              16\n",
      "\n",
      "[45489 rows x 1 columns]\n"
     ]
    }
   ],
   "source": [
    "#Group A = gate_30, Group B = gate_40\n",
    "gate_30=pd.DataFrame(cats_df_lessmax[cats_df_lessmax.version==\"gate_30\"]['sum_gamerounds'])\n",
    "gate_40=pd.DataFrame(cats_df_lessmax[cats_df_lessmax.version==\"gate_40\"]['sum_gamerounds'])\n",
    "print(f'{gate_30}')\n",
    "print(f'\\n{gate_40}')"
   ]
  },
  {
   "cell_type": "markdown",
   "id": "5f9301db",
   "metadata": {},
   "source": [
    "### Q4.1 Shapiro test of Normality"
   ]
  },
  {
   "cell_type": "markdown",
   "id": "6144ee60",
   "metadata": {},
   "source": [
    "### Step 1: State the null and alternative hypothesis:\n",
    "\n",
    "* $H_0$: Distribution is normal\n",
    "* $H_A$: Distribution is not normal"
   ]
  },
  {
   "cell_type": "markdown",
   "id": "506e0a0f",
   "metadata": {},
   "source": [
    "### Step 2: Decide the significance level\n",
    "\n",
    "We select α = 0.05"
   ]
  },
  {
   "cell_type": "markdown",
   "id": "1488ba03",
   "metadata": {},
   "source": [
    "### Step 3: Identify the test statistic\n",
    "\n",
    "The Shapiro-Wilk test tests the null hypothesis that the data was drawn from a normal distribution.\n",
    "\n",
    "The null-hypothesis of this test is that the population is normally distributed. \n",
    "\n",
    "If the p value is less than the chosen alpha level, then the null hypothesis is rejected and there is evidence that the data tested are not normally distributed. On the other hand, if the p value is greater than the chosen alpha level, then the null hypothesis (that the data came from a normally distributed population) can not be rejected (e.g., for an alpha level of .05, a data set with a p value of less than .05 rejects the null hypothesis that the data are from a normally distributed population)"
   ]
  },
  {
   "cell_type": "markdown",
   "id": "201ccd48",
   "metadata": {},
   "source": [
    "### Step 4: Calculating the p value "
   ]
  },
  {
   "cell_type": "code",
   "execution_count": 16,
   "id": "d64c1fa3",
   "metadata": {},
   "outputs": [
    {
     "name": "stdout",
     "output_type": "stream",
     "text": [
      "The result of the Shapiro Test for gate_30 is: ShapiroResult(statistic=0.48864424228668213, pvalue=0.0)\n",
      "\n",
      "The result of the Shapiro Test for gate_40 is: ShapiroResult(statistic=0.4825654625892639, pvalue=0.0)\n"
     ]
    }
   ],
   "source": [
    "#p-value for Group A: gate_30\n",
    "shapiro_30 = stats.shapiro(gate_30)\n",
    "print(f'The result of the Shapiro Test for gate_30 is: {shapiro_30}\\n')\n",
    "\n",
    "#p-value for Group B: gate_40\n",
    "shapiro_40 = stats.shapiro(gate_40)\n",
    "print(f'The result of the Shapiro Test for gate_40 is: {shapiro_40}')"
   ]
  },
  {
   "cell_type": "markdown",
   "id": "2d1c6616",
   "metadata": {},
   "source": [
    "### Step 5: Decide to reject or accept null hypothesis"
   ]
  },
  {
   "cell_type": "markdown",
   "id": "49edbabc",
   "metadata": {},
   "source": [
    "<mark>__Analysis of Results:__\n",
    "    \n",
    "Since the p-value for both the data from gate_30 and gate_40 is less than α, we reject the null hypothesis for both the data from gate_30 and gate_40. This would mean that both the data from gate_30 and gate_40 are not normally distributed. "
   ]
  },
  {
   "cell_type": "markdown",
   "id": "a012746e",
   "metadata": {},
   "source": [
    "### Levene's Test\n",
    "\n",
    "Levene’s Test is a test of homogenity used to determine whether \"two or more\" groups have equal variances. "
   ]
  },
  {
   "cell_type": "markdown",
   "id": "88acb992",
   "metadata": {},
   "source": [
    "### Q4.2 Test of homegienity of variance"
   ]
  },
  {
   "cell_type": "markdown",
   "id": "b6be92b1",
   "metadata": {},
   "source": [
    "### Step 1: State the null and alternative hypothesis:\n",
    "\n",
    "* $H_0$: Two groups have equal variances\n",
    "* $H_A$: Two groups do not have equal variances"
   ]
  },
  {
   "cell_type": "markdown",
   "id": "27c6c46d",
   "metadata": {},
   "source": [
    "### Step 2: Decide the significance level\n",
    "\n",
    "We select α = 0.05"
   ]
  },
  {
   "cell_type": "markdown",
   "id": "90d5b512",
   "metadata": {},
   "source": [
    "### Step 3: Identify the test statistic\n",
    "\n",
    "The null hypothesis is that the two groups of data have equal variances. \n",
    "\n",
    "If the calulated p-value is greater than the selected α  (i.e., p > 0.05), the variances of the two groups of the data can be treated as equal. However, if p < 0.05, we have unequal variances for the two groups of data."
   ]
  },
  {
   "cell_type": "markdown",
   "id": "fc746bf6",
   "metadata": {},
   "source": [
    "### Step 4: Calculating the p value "
   ]
  },
  {
   "cell_type": "code",
   "execution_count": 17,
   "id": "d3c6a91e",
   "metadata": {},
   "outputs": [
    {
     "name": "stdout",
     "output_type": "stream",
     "text": [
      "The result of the Levene Test for the median of both groups of data is: LeveneResult(statistic=0.07510153837481241, pvalue=0.7840494387892463)\n",
      "\n",
      "The result of the Levene Test for the mean of both groups of data is: LeveneResult(statistic=0.44323828641133145, pvalue=0.5055653021251583)\n"
     ]
    }
   ],
   "source": [
    "#Levene's test centered at the median\n",
    "#Reshaping the gate_30 and gate_40 dataframes to a 1-dimensional array to perform the Levene's test\n",
    "#Performing the Levene's test on the median of the gate_30 and gate_40 data\n",
    "gate_30_resh = np.array(gate_30).reshape(-1)\n",
    "gate_40_resh = np.array(gate_40).reshape(-1)\n",
    "lev_med = stats.levene(gate_30_resh, gate_40_resh, center='median')\n",
    "print(f'The result of the Levene Test for the median of both groups of data is: {lev_med}\\n')\n",
    "\n",
    "#Performing the Levene's test on the mean of the gate_30 and gate_40 data\n",
    "gate_30_resh = np.array(gate_30).reshape(-1)\n",
    "gate_40_resh = np.array(gate_40).reshape(-1)\n",
    "lev_mean = stats.levene(gate_30_resh, gate_40_resh, center='mean')\n",
    "print(f'The result of the Levene Test for the mean of both groups of data is: {lev_mean}')"
   ]
  },
  {
   "cell_type": "markdown",
   "id": "604f2f7f",
   "metadata": {},
   "source": [
    "### Step 5: Decide to reject or accept null hypothesis"
   ]
  },
  {
   "cell_type": "markdown",
   "id": "20113e08",
   "metadata": {},
   "source": [
    "<mark>__Analysis of Results:__\n",
    "    \n",
    "Performing the Levene's tests on both the median and mean of the gate_30 and gate_40 data, both the p-values are greater than α. Hence, we fail to reject the null hypothesis for both the data from gate_30 and gate_40. This would mean that the variances for both the data from gate_30 and gate_40 can be treated as equal. "
   ]
  },
  {
   "cell_type": "markdown",
   "id": "47c6c3a7",
   "metadata": {},
   "source": [
    "### Q4.3 Test of significance: Two sample test"
   ]
  },
  {
   "cell_type": "markdown",
   "id": "a5f411d8",
   "metadata": {},
   "source": [
    "### Step 1: State the null and alternative hypothesis:\n",
    "\n",
    "* $H_0$: Two samples are equal\n",
    "* $H_A$: Two samples are different"
   ]
  },
  {
   "cell_type": "markdown",
   "id": "2b76994d",
   "metadata": {},
   "source": [
    "### Step 2: Decide the significance level\n",
    "\n",
    "We select α = 0.05"
   ]
  },
  {
   "cell_type": "markdown",
   "id": "8df03ae6",
   "metadata": {},
   "source": [
    "### Step 3: Identify the test statistic\n",
    "\n",
    "The null hypothesis is that the two samples are equal. \n",
    "\n",
    "If the calulated p-value is greater than the selected α  (i.e., p > 0.05), the two samples are equal. However, if p < 0.05, we conclude that the samples are different."
   ]
  },
  {
   "cell_type": "markdown",
   "id": "d3861497",
   "metadata": {},
   "source": [
    "### Step 4: Calculating the p value "
   ]
  },
  {
   "cell_type": "code",
   "execution_count": 18,
   "id": "92dd0ee3",
   "metadata": {},
   "outputs": [
    {
     "name": "stdout",
     "output_type": "stream",
     "text": [
      "t-statistic = 0.06, pvalue = 0.95\n"
     ]
    }
   ],
   "source": [
    "#Calculating the p value\n",
    "gate_30 = pd.DataFrame(cats_df_lessmax[cats_df_lessmax.version==\"gate_30\"]['sum_gamerounds'])\n",
    "gate_40 = pd.DataFrame(cats_df_lessmax[cats_df_lessmax.version==\"gate_40\"]['sum_gamerounds'])\n",
    "t_stat, pvalue = stats.ttest_ind(gate_30, gate_40) #Variances are treated as equal based on the results of the Levene's test\n",
    "print('t-statistic = %.2f, pvalue = %.2f'%(t_stat, pvalue))"
   ]
  },
  {
   "cell_type": "markdown",
   "id": "6d829d1f",
   "metadata": {},
   "source": [
    "### Step 5: Decide to reject or accept null hypothesis"
   ]
  },
  {
   "cell_type": "markdown",
   "id": "a79942c1",
   "metadata": {},
   "source": [
    "<mark>__Analysis of Results:__\n",
    "    \n",
    "Since the calculated p-values are greater than α, we fail to reject the null hypothesis. We conclude that the two samples are equal. "
   ]
  },
  {
   "cell_type": "markdown",
   "id": "d6c79bb8",
   "metadata": {},
   "source": [
    "## Q5. Based on significance testing results, if groups A and B are statistically different, which level has more advantage in terms of player retention and number of game rounds played"
   ]
  },
  {
   "cell_type": "code",
   "execution_count": 19,
   "id": "377fcd57",
   "metadata": {},
   "outputs": [
    {
     "data": {
      "text/html": [
       "<div>\n",
       "<style scoped>\n",
       "    .dataframe tbody tr th:only-of-type {\n",
       "        vertical-align: middle;\n",
       "    }\n",
       "\n",
       "    .dataframe tbody tr th {\n",
       "        vertical-align: top;\n",
       "    }\n",
       "\n",
       "    .dataframe thead th {\n",
       "        text-align: right;\n",
       "    }\n",
       "</style>\n",
       "<table border=\"1\" class=\"dataframe\">\n",
       "  <thead>\n",
       "    <tr style=\"text-align: right;\">\n",
       "      <th></th>\n",
       "      <th></th>\n",
       "      <th>count</th>\n",
       "      <th>median</th>\n",
       "      <th>mean</th>\n",
       "      <th>std</th>\n",
       "      <th>max</th>\n",
       "      <th>sum</th>\n",
       "    </tr>\n",
       "    <tr>\n",
       "      <th>version</th>\n",
       "      <th>retention_1</th>\n",
       "      <th></th>\n",
       "      <th></th>\n",
       "      <th></th>\n",
       "      <th></th>\n",
       "      <th></th>\n",
       "      <th></th>\n",
       "    </tr>\n",
       "  </thead>\n",
       "  <tbody>\n",
       "    <tr>\n",
       "      <th rowspan=\"2\" valign=\"top\">gate_30</th>\n",
       "      <th>False</th>\n",
       "      <td>24665</td>\n",
       "      <td>6</td>\n",
       "      <td>16.359092</td>\n",
       "      <td>36.528426</td>\n",
       "      <td>1072</td>\n",
       "      <td>403497</td>\n",
       "    </tr>\n",
       "    <tr>\n",
       "      <th>True</th>\n",
       "      <td>20034</td>\n",
       "      <td>48</td>\n",
       "      <td>94.411700</td>\n",
       "      <td>135.037697</td>\n",
       "      <td>2961</td>\n",
       "      <td>1891444</td>\n",
       "    </tr>\n",
       "    <tr>\n",
       "      <th rowspan=\"2\" valign=\"top\">gate_40</th>\n",
       "      <th>False</th>\n",
       "      <td>25370</td>\n",
       "      <td>6</td>\n",
       "      <td>16.340402</td>\n",
       "      <td>35.925756</td>\n",
       "      <td>1241</td>\n",
       "      <td>414556</td>\n",
       "    </tr>\n",
       "    <tr>\n",
       "      <th>True</th>\n",
       "      <td>20119</td>\n",
       "      <td>49</td>\n",
       "      <td>95.381182</td>\n",
       "      <td>137.887256</td>\n",
       "      <td>2640</td>\n",
       "      <td>1918974</td>\n",
       "    </tr>\n",
       "  </tbody>\n",
       "</table>\n",
       "</div>"
      ],
      "text/plain": [
       "                     count  median       mean         std   max      sum\n",
       "version retention_1                                                     \n",
       "gate_30 False        24665       6  16.359092   36.528426  1072   403497\n",
       "        True         20034      48  94.411700  135.037697  2961  1891444\n",
       "gate_40 False        25370       6  16.340402   35.925756  1241   414556\n",
       "        True         20119      49  95.381182  137.887256  2640  1918974"
      ]
     },
     "metadata": {},
     "output_type": "display_data"
    },
    {
     "data": {
      "text/html": [
       "<div>\n",
       "<style scoped>\n",
       "    .dataframe tbody tr th:only-of-type {\n",
       "        vertical-align: middle;\n",
       "    }\n",
       "\n",
       "    .dataframe tbody tr th {\n",
       "        vertical-align: top;\n",
       "    }\n",
       "\n",
       "    .dataframe thead th {\n",
       "        text-align: right;\n",
       "    }\n",
       "</style>\n",
       "<table border=\"1\" class=\"dataframe\">\n",
       "  <thead>\n",
       "    <tr style=\"text-align: right;\">\n",
       "      <th></th>\n",
       "      <th></th>\n",
       "      <th>count</th>\n",
       "      <th>median</th>\n",
       "      <th>mean</th>\n",
       "      <th>std</th>\n",
       "      <th>max</th>\n",
       "      <th>sum</th>\n",
       "    </tr>\n",
       "    <tr>\n",
       "      <th>version</th>\n",
       "      <th>retention_7</th>\n",
       "      <th></th>\n",
       "      <th></th>\n",
       "      <th></th>\n",
       "      <th></th>\n",
       "      <th></th>\n",
       "      <th></th>\n",
       "    </tr>\n",
       "  </thead>\n",
       "  <tbody>\n",
       "    <tr>\n",
       "      <th rowspan=\"2\" valign=\"top\">gate_30</th>\n",
       "      <th>False</th>\n",
       "      <td>36198</td>\n",
       "      <td>11</td>\n",
       "      <td>25.796508</td>\n",
       "      <td>43.316158</td>\n",
       "      <td>981</td>\n",
       "      <td>933782</td>\n",
       "    </tr>\n",
       "    <tr>\n",
       "      <th>True</th>\n",
       "      <td>8501</td>\n",
       "      <td>105</td>\n",
       "      <td>160.117516</td>\n",
       "      <td>179.358560</td>\n",
       "      <td>2961</td>\n",
       "      <td>1361159</td>\n",
       "    </tr>\n",
       "    <tr>\n",
       "      <th rowspan=\"2\" valign=\"top\">gate_40</th>\n",
       "      <th>False</th>\n",
       "      <td>37210</td>\n",
       "      <td>11</td>\n",
       "      <td>25.856356</td>\n",
       "      <td>44.406112</td>\n",
       "      <td>2640</td>\n",
       "      <td>962115</td>\n",
       "    </tr>\n",
       "    <tr>\n",
       "      <th>True</th>\n",
       "      <td>8279</td>\n",
       "      <td>111</td>\n",
       "      <td>165.649837</td>\n",
       "      <td>183.792499</td>\n",
       "      <td>2294</td>\n",
       "      <td>1371415</td>\n",
       "    </tr>\n",
       "  </tbody>\n",
       "</table>\n",
       "</div>"
      ],
      "text/plain": [
       "                     count  median        mean         std   max      sum\n",
       "version retention_7                                                      \n",
       "gate_30 False        36198      11   25.796508   43.316158   981   933782\n",
       "        True          8501     105  160.117516  179.358560  2961  1361159\n",
       "gate_40 False        37210      11   25.856356   44.406112  2640   962115\n",
       "        True          8279     111  165.649837  183.792499  2294  1371415"
      ]
     },
     "metadata": {},
     "output_type": "display_data"
    }
   ],
   "source": [
    "ver_ret1d = cats_df_lessmax.groupby([\"version\", \"retention_1\"]).sum_gamerounds.agg([\"count\", \"median\", \"mean\", \"std\", \"max\",\"sum\"])\n",
    "display(ver_ret1d)\n",
    "ver_ret7d = cats_df_lessmax.groupby([\"version\", \"retention_7\"]).sum_gamerounds.agg([\"count\", \"median\", \"mean\", \"std\", \"max\",\"sum\"])\n",
    "display(ver_ret7d)"
   ]
  },
  {
   "cell_type": "markdown",
   "id": "11d8cfc7",
   "metadata": {},
   "source": [
    "<mark>__Analysis of Results:__\n",
    "    \n",
    "Considering the 1-day retention data, that is when the value is displayed as 'True' under the 'retention_1' column, the mean number of gamerounds and the total number gamerounds played are higher for the gate set at level 40. Whilst the maximum number of gamerounds played were higher for the gate set at level 30. The same could be observed from the 7-day retention data. \n",
    "\n",
    "From a business perspective, having a player returning to play the game even after 7 days of installing the game would be advantageous as this would mean that the player would have some form of vested interest in the game already. As such, he would have a higher chance of spending money in purchasing from the in-game store and spending more time on the game. Even if a player returned to play the game after 1 day of installing the game this would have little significance to the company as this player might eventually leave the game totally without even hitting the relevant levels where the gate is set.\n",
    "    \n",
    "Hence, a higher mean number of gamerounds and total number of gamerounds played would be an essential consideration from a business perspective. Therefore, having the gate set at level 40 would be more advantageous for the business in terms of player retention and number of gamerounds played. \n",
    "    \n",
    "That being the case, it must be noted that based on the summary of the data from the number of gamerounds played for both the 1-day retention and 7-day retention, the data presented above looks very similar with only slight differences in certain data points. Even then, these differences might be too small to be considered statistically significant. More data may be needed, either over an extended period of time or after the gate had been placed, if according to the current recommendation, is at level 40, before any definitive conclusion could be drawn on the impact of placing the gate at this level on player retention. \n",
    "    \n",
    "A further point to note is that there is a significant proportion of players who actually did not return to game at all after installing the game, as seen from the cross tab in question 3.1. The proportion of players who did not return to play the game 1 day after installing it is 55% and 56% for level 30 and level 40 respectively. And this proportion of players who did not return to play the game increases to 81%  and 82% for level 30 and level 40 respectively when we look at the statistics for the 7-day retention rate. This might suggest inherent problems in either game or level design or even the game mechanics. It might be worthwhile to look into these areas first before looking into the placement of the gate in order to determine the root cause for the churn of players.    "
   ]
  },
  {
   "cell_type": "markdown",
   "id": "67d8bcc4",
   "metadata": {},
   "source": [
    "## Q6. [Bonus Question]  Using bootstrap resampling, plot the retention rate distribution for both the groups inorder to visualize effect of different version of the game on retention."
   ]
  }
 ],
 "metadata": {
  "kernelspec": {
   "display_name": "Python 3",
   "language": "python",
   "name": "python3"
  },
  "language_info": {
   "codemirror_mode": {
    "name": "ipython",
    "version": 3
   },
   "file_extension": ".py",
   "mimetype": "text/x-python",
   "name": "python",
   "nbconvert_exporter": "python",
   "pygments_lexer": "ipython3",
   "version": "3.8.8"
  }
 },
 "nbformat": 4,
 "nbformat_minor": 5
}
